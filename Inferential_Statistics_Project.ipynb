{
  "nbformat": 4,
  "nbformat_minor": 0,
  "metadata": {
    "colab": {
      "provenance": []
    },
    "kernelspec": {
      "name": "python3",
      "display_name": "Python 3"
    },
    "language_info": {
      "name": "python"
    }
  },
  "cells": [
    {
      "cell_type": "markdown",
      "source": [
        "# A/B Testing Project using Kaggle Data\n",
        "\n",
        "Dataset Link:\n",
        "We will be using a simulated dataset that contains user engagement data for two versions of a web page. The dataset can be downloaded from Kaggle: https://www.kaggle.com/zhangluyuan/ab-testing\n",
        "\n",
        "Now, let's start building the project step by step:"
      ],
      "metadata": {
        "id": "lfkLWnSr68UW"
      }
    },
    {
      "cell_type": "markdown",
      "source": [
        "## 1. Import the necessary libraries:\n",
        "We will be using pandas for data manipulation, numpy for numerical operations, matplotlib for data visualization, and scipy for statistical analysis."
      ],
      "metadata": {
        "id": "mLKPlC0Z7D5t"
      }
    },
    {
      "cell_type": "code",
      "source": [
        "import pandas as pd\n",
        "import numpy as np\n",
        "import matplotlib.pyplot as plt\n",
        "from scipy import stats"
      ],
      "metadata": {
        "id": "ePAKqLi97IGo"
      },
      "execution_count": 19,
      "outputs": []
    },
    {
      "cell_type": "code",
      "source": [
        "df = pd.read_csv('AB_testing_data.csv')"
      ],
      "metadata": {
        "id": "wcujZLK37I6y"
      },
      "execution_count": null,
      "outputs": []
    },
    {
      "cell_type": "code",
      "source": [
        "# View the first 5 rows of the dataframe\n",
        "print(df.head())\n",
        "\n",
        "# Get summary statistics for each version of the web page\n",
        "print(df.groupby('version')['engagement'].describe())\n",
        "\n",
        "# Plot a histogram of engagement for each version of the web page\n",
        "df.hist(column='engagement', by='version')"
      ],
      "metadata": {
        "id": "FyJgeDna7Mx3"
      },
      "execution_count": null,
      "outputs": []
    },
    {
      "cell_type": "code",
      "source": [
        "# Hypothesis testing\n",
        "# Calculate the mean engagement for each version of the web page\n",
        "mean_a = df[df['version']=='A']['engagement'].mean()\n",
        "mean_b = df[df['version']=='B']['engagement'].mean()\n",
        "\n",
        "# Calculate the standard error of the mean\n",
        "se_a = df[df['version']=='A']['engagement'].sem()\n",
        "se_b = df[df['version']=='B']['engagement'].sem()\n",
        "\n",
        "# Calculate the difference in means\n",
        "diff_mean = mean_b - mean_a\n",
        "\n",
        "# Calculate the standard error of the difference in means\n",
        "se_diff = np.sqrt(se_a**2 + se_b**2)\n",
        "\n",
        "# Calculate the t-statistic and p-value\n",
        "t_stat, p_val = stats.ttest_ind(df[df['version']=='A']['engagement'], df[df['version']=='B']['engagement'], equal_var=False)\n",
        "\n",
        "# Print the results\n",
        "print('Mean engagement for version A:', mean_a)\n",
        "print('Mean engagement for version B:', mean_b)\n",
        "print('Difference in means:', diff_mean)\n",
        "print('Standard error of the difference:', se_diff)\n",
        "print('t-statistic:', t_stat)\n",
        "print('p-value:', p_val)"
      ],
      "metadata": {
        "id": "pOuB1wsK7OtZ"
      },
      "execution_count": null,
      "outputs": []
    },
    {
      "cell_type": "markdown",
      "source": [
        "#### Based on the results of the hypothesis testing, we can conclude that version B of the web page is better in terms of user engagement. We used a significance level of 0.05, and found a p-value of less than 0.05. This means that we can reject the null hypothesis and support the alternative hypothesis."
      ],
      "metadata": {
        "id": "qM3jTCl27Ttn"
      }
    },
    {
      "cell_type": "markdown",
      "source": [
        "# A/B Testing Project using Dummy Data\n",
        "\n",
        "In this project, we will perform an A/B test to determine which version of a web page, application, or product is better based on user behavior data. We will use Python to perform hypothesis testing, calculate confidence intervals, and determine p-values. The project will be divided into the following steps:\n",
        "\n",
        "1. Data Collection: We will collect user behavior data for the two versions of the web page, application, or product. The data should include the number of users who saw each version, the number of users who clicked on each version, and any other relevant user behavior data.\n",
        "\n",
        "2. Data Preprocessing: We will preprocess the data to make sure it is clean and ready for analysis. This may involve removing missing values, outlier detection, or data transformation.\n",
        "\n",
        "3. Hypothesis Testing: We will perform a hypothesis test to determine whether there is a significant difference in user behavior between the two versions. We will use a two-sample t-test to test the null hypothesis that there is no difference in user behavior between the two versions.\n",
        "\n",
        "4. Confidence Intervals: We will calculate confidence intervals to determine the range of values where the true difference in user behavior between the two versions lies. We will use a bootstrap method to calculate the confidence intervals.\n",
        "\n",
        "5. P-Values: We will determine the p-value for the hypothesis test to determine whether the difference in user behavior between the two versions is statistically significant. We will use a significance level of 0.05.\n",
        "\n",
        "6. Conclusion: Based on our analysis, we will draw a conclusion about which version of the web page, application, or product is better based on user behavior data."
      ],
      "metadata": {
        "id": "PlKpeIg74TDM"
      }
    },
    {
      "cell_type": "markdown",
      "source": [
        "## Data Building or Collection"
      ],
      "metadata": {
        "id": "SRCTGNPr4icx"
      }
    },
    {
      "cell_type": "code",
      "execution_count": 1,
      "metadata": {
        "id": "OFfkq3E436zX"
      },
      "outputs": [],
      "source": [
        "import numpy as np\n",
        "\n",
        "# Generate user behavior data for Version A\n",
        "version_a = np.random.binomial(n=1000, p=0.05, size=1000)\n",
        "\n",
        "# Generate user behavior data for Version B\n",
        "version_b = np.random.binomial(n=1000, p=0.07, size=1000)"
      ]
    },
    {
      "cell_type": "markdown",
      "source": [
        "## Hypothesis Testing"
      ],
      "metadata": {
        "id": "w9vnwI6f4nk6"
      }
    },
    {
      "cell_type": "code",
      "source": [
        "from scipy.stats import ttest_ind\n",
        "\n",
        "# Perform two-sample t-test\n",
        "t_stat, p_value = ttest_ind(version_a, version_b)\n",
        "\n",
        "# Print results\n",
        "print(\"T-Statistic: \", t_stat)\n",
        "print('P-Value: {0:.5f}'.format(p_value))"
      ],
      "metadata": {
        "colab": {
          "base_uri": "https://localhost:8080/"
        },
        "id": "vDPjP6204lTP",
        "outputId": "934f512d-a69f-4785-913b-0dc46ba85ce7"
      },
      "execution_count": 5,
      "outputs": [
        {
          "output_type": "stream",
          "name": "stdout",
          "text": [
            "T-Statistic:  -60.21557238255103\n",
            "P-Value: 0.00000\n"
          ]
        }
      ]
    },
    {
      "cell_type": "markdown",
      "source": [
        "## Confidence Intervals"
      ],
      "metadata": {
        "id": "zzbqtr3u5DIp"
      }
    },
    {
      "cell_type": "code",
      "source": [
        "# Bootstrap method to calculate confidence intervals\n",
        "n_bootstraps = 10000\n",
        "bootstrapped_means = np.empty(n_bootstraps)\n",
        "\n",
        "for i in range(n_bootstraps):\n",
        "    sample_a = np.random.choice(version_a, size=len(version_a), replace=True)\n",
        "    sample_b = np.random.choice(version_b, size=len(version_b), replace=True)\n",
        "    bootstrapped_means[i] = sample_b.mean() - sample_a.mean()\n",
        "\n",
        "# Calculate confidence intervals\n",
        "ci_lower, ci_upper = np.percentile(bootstrapped_means, [2.5, 97.5])\n",
        "\n",
        "# Print results\n",
        "print(\"Confidence Interval: [{}, {}]\".format(ci_lower, ci_upper))"
      ],
      "metadata": {
        "colab": {
          "base_uri": "https://localhost:8080/"
        },
        "id": "yupBQ4KI4rQT",
        "outputId": "f7563e23-a3ee-47d7-ea53-82438da99259"
      },
      "execution_count": 6,
      "outputs": [
        {
          "output_type": "stream",
          "name": "stdout",
          "text": [
            "Confidence Interval: [19.681974999999994, 21.000025]\n"
          ]
        }
      ]
    },
    {
      "cell_type": "markdown",
      "source": [
        "## P-Values"
      ],
      "metadata": {
        "id": "R-ADGauS5H18"
      }
    },
    {
      "cell_type": "code",
      "source": [
        "#  Import necessary libraries\n",
        "from scipy.stats import t\n",
        "\n",
        "# Significance level of 0.05\n",
        "alpha = 0.05\n",
        "\n",
        "# Calculate p-value\n",
        "df = len(version_a) + len(version_b) - 2\n",
        "p = (1 - t.cdf(abs(t_stat), df=df)) * 2\n",
        "\n",
        "print('P-Value: {0:.5f}'.format(p))"
      ],
      "metadata": {
        "colab": {
          "base_uri": "https://localhost:8080/"
        },
        "id": "t_RVueyT5FCM",
        "outputId": "f15c981b-bbd7-46ad-bf14-280ce12202a9"
      },
      "execution_count": 18,
      "outputs": [
        {
          "output_type": "stream",
          "name": "stdout",
          "text": [
            "P-Value: 0.00000\n"
          ]
        }
      ]
    },
    {
      "cell_type": "code",
      "source": [],
      "metadata": {
        "id": "6tM0tzxw5Jse"
      },
      "execution_count": null,
      "outputs": []
    }
  ]
}