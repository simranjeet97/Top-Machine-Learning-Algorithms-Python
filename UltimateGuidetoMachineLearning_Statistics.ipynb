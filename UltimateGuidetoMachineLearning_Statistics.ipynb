{
  "nbformat": 4,
  "nbformat_minor": 0,
  "metadata": {
    "colab": {
      "provenance": []
    },
    "kernelspec": {
      "name": "python3",
      "display_name": "Python 3"
    },
    "language_info": {
      "name": "python"
    }
  },
  "cells": [
    {
      "cell_type": "markdown",
      "source": [
        "## Probability Theory"
      ],
      "metadata": {
        "id": "fNU0mtGDMrzV"
      }
    },
    {
      "cell_type": "markdown",
      "source": [
        "### Expected value and variance"
      ],
      "metadata": {
        "id": "sSfj6TIAM0_R"
      }
    },
    {
      "cell_type": "code",
      "source": [
        "import numpy as np\n",
        "\n",
        "# Generate 10000 random numbers from a normal distribution\n",
        "rand_nums = np.random.normal(loc=0, scale=1, size=10000)\n",
        "\n",
        "# Calculate the expected value and variance\n",
        "expected_value = np.mean(rand_nums)\n",
        "variance = np.var(rand_nums)\n",
        "\n",
        "print(f\"Expected value: {expected_value:.2f}\")\n",
        "print(f\"Variance: {variance:.2f}\")"
      ],
      "metadata": {
        "colab": {
          "base_uri": "https://localhost:8080/"
        },
        "id": "cwyFpHAgMsBG",
        "outputId": "e477a480-1c71-4765-ac7c-824b0ee4cdf1"
      },
      "execution_count": null,
      "outputs": [
        {
          "output_type": "stream",
          "name": "stdout",
          "text": [
            "Expected value: -0.01\n",
            "Variance: 1.03\n"
          ]
        }
      ]
    },
    {
      "cell_type": "markdown",
      "source": [
        "### Conditional probability and Bayes' theorem"
      ],
      "metadata": {
        "id": "a4H6IGa5MzPE"
      }
    },
    {
      "cell_type": "code",
      "source": [
        "# Define the probabilities\n",
        "p_disease = 0.01\n",
        "p_no_disease = 1 - p_disease\n",
        "p_positive_given_disease = 0.95\n",
        "p_positive_given_no_disease = 0.05\n",
        "\n",
        "# Calculate the probability of testing positive\n",
        "p_positive = (p_positive_given_disease * p_disease) + (p_positive_given_no_disease * p_no_disease)\n",
        "\n",
        "# Calculate the probability of having the disease given a positive test\n",
        "p_disease_given_positive = (p_positive_given_disease * p_disease) / p_positive\n",
        "\n",
        "print(f\"Probability of having the disease given a positive test: {p_disease_given_positive:.2f}\")"
      ],
      "metadata": {
        "id": "YxwMApSVMvTG"
      },
      "execution_count": null,
      "outputs": []
    },
    {
      "cell_type": "markdown",
      "source": [
        "### Normal Distribution"
      ],
      "metadata": {
        "id": "uqFGSApwM5OR"
      }
    },
    {
      "cell_type": "code",
      "source": [
        "import numpy as np\n",
        "import matplotlib.pyplot as plt\n",
        "from scipy.stats import norm\n",
        "\n",
        "# Create a normal distribution with mean 0 and standard deviation 1\n",
        "mu, sigma = 0, 1\n",
        "x = np.linspace(mu - 3*sigma, mu + 3*sigma, 100)\n",
        "plt.plot(x, norm.pdf(x, mu, sigma))\n",
        "plt.show()"
      ],
      "metadata": {
        "colab": {
          "base_uri": "https://localhost:8080/",
          "height": 265
        },
        "id": "fB9DGkVeM3dY",
        "outputId": "f68cd298-9ee6-4793-871b-266dacd42453"
      },
      "execution_count": null,
      "outputs": [
        {
          "output_type": "display_data",
          "data": {
            "text/plain": [
              "<Figure size 432x288 with 1 Axes>"
            ],
            "image/png": "[encoded data removed]"
          },
          "metadata": {
            "needs_background": "light"
          }
        }
      ]
    },
    {
      "cell_type": "markdown",
      "source": [
        "### Binomial Distribution"
      ],
      "metadata": {
        "id": "PefZqRIlM-TZ"
      }
    },
    {
      "cell_type": "code",
      "source": [
        "from scipy.stats import binom\n",
        "\n",
        "# Create a binomial distribution with n=10 and p=0.5\n",
        "n, p = 10, 0.5\n",
        "x = np.arange(binom.ppf(0.01, n, p), binom.ppf(0.99, n, p))\n",
        "plt.plot(x, binom.pmf(x, n, p), 'bo', ms=8)\n",
        "plt.show()"
      ],
      "metadata": {
        "colab": {
          "base_uri": "https://localhost:8080/",
          "height": 265
        },
        "id": "5GYM-b-HM7v_",
        "outputId": "add56c36-d568-456d-f7bb-afd79b6677bb"
      },
      "execution_count": null,
      "outputs": [
        {
          "output_type": "display_data",
          "data": {
            "text/plain": [
              "<Figure size 432x288 with 1 Axes>"
            ],
            "image/png": "[encoded data removed]"
          },
          "metadata": {
            "needs_background": "light"
          }
        }
      ]
    },
    {
      "cell_type": "markdown",
      "source": [
        "### Poisson Distribution"
      ],
      "metadata": {
        "id": "MT4m7T-pNA48"
      }
    },
    {
      "cell_type": "code",
      "source": [
        "from scipy.stats import poisson\n",
        "\n",
        "# Create a Poisson distribution with lambda=2\n",
        "mu = 2\n",
        "x = np.arange(poisson.ppf(0.01, mu), poisson.ppf(0.99, mu))\n",
        "plt.plot(x, poisson.pmf(x, mu), 'bo', ms=8)\n",
        "plt.show()"
      ],
      "metadata": {
        "colab": {
          "base_uri": "https://localhost:8080/",
          "height": 265
        },
        "id": "h8peaaUDM_oo",
        "outputId": "bed80c81-1fad-473b-e3c2-425f29a07852"
      },
      "execution_count": null,
      "outputs": [
        {
          "output_type": "display_data",
          "data": {
            "text/plain": [
              "<Figure size 432x288 with 1 Axes>"
            ],
            "image/png": "[encoded data removed]"
          },
          "metadata": {
            "needs_background": "light"
          }
        }
      ]
    },
    {
      "cell_type": "markdown",
      "source": [
        "### Exponential Distribution"
      ],
      "metadata": {
        "id": "B9by2A4JNEo4"
      }
    },
    {
      "cell_type": "code",
      "source": [
        "from scipy.stats import expon\n",
        "\n",
        "# Create an exponential distribution with lambda=0.5\n",
        "rate = 0.5\n",
        "x = np.linspace(0, 10, 100)\n",
        "plt.plot(x, expon.pdf(x, scale=1/rate))\n",
        "plt.show()"
      ],
      "metadata": {
        "colab": {
          "base_uri": "https://localhost:8080/",
          "height": 265
        },
        "id": "zxwqjNHINDqr",
        "outputId": "d6144335-df9c-4ca6-faf3-18d7777650f9"
      },
      "execution_count": null,
      "outputs": [
        {
          "output_type": "display_data",
          "data": {
            "text/plain": [
              "<Figure size 432x288 with 1 Axes>"
            ],
            "image/png": "[encoded data removed]"
          },
          "metadata": {
            "needs_background": "light"
          }
        }
      ]
    },
    {
      "cell_type": "markdown",
      "source": [
        "### Gamma Distribution"
      ],
      "metadata": {
        "id": "S7pXoZ82NJLg"
      }
    },
    {
      "cell_type": "code",
      "source": [
        "from scipy.stats import gamma\n",
        "\n",
        "# Create a gamma distribution with k=2 and lambda=0.5\n",
        "k, theta = 2, 1/0.5\n",
        "x = np.linspace(gamma.ppf(0.01, k), gamma.ppf(0.99, k), 100)\n",
        "plt.plot(x, gamma.pdf(x, k, scale=theta))\n",
        "plt.show()"
      ],
      "metadata": {
        "colab": {
          "base_uri": "https://localhost:8080/",
          "height": 265
        },
        "id": "7Tz6DcxWNHwq",
        "outputId": "de963b7d-b347-4193-b89c-1bf7847d55fa"
      },
      "execution_count": null,
      "outputs": [
        {
          "output_type": "display_data",
          "data": {
            "text/plain": [
              "<Figure size 432x288 with 1 Axes>"
            ],
            "image/png": "[encoded data removed]"
          },
          "metadata": {
            "needs_background": "light"
          }
        }
      ]
    },
    {
      "cell_type": "markdown",
      "source": [
        "## Descriptive Statistics"
      ],
      "metadata": {
        "id": "dq8ilduuP5jw"
      }
    },
    {
      "cell_type": "markdown",
      "source": [
        "### Measures of central tendency and variability"
      ],
      "metadata": {
        "id": "SBVuX8NQP7Zq"
      }
    },
    {
      "cell_type": "code",
      "source": [
        "#Mean\n",
        "import numpy as np\n",
        "data = np.array([2, 4, 6, 8, 10])\n",
        "mean = np.mean(data)\n",
        "print(\"Mean:\", mean)"
      ],
      "metadata": {
        "colab": {
          "base_uri": "https://localhost:8080/"
        },
        "id": "_pogj0d8NKho",
        "outputId": "20eb7aa0-4a75-4f86-d64a-9cfcdd7ac271"
      },
      "execution_count": null,
      "outputs": [
        {
          "output_type": "stream",
          "name": "stdout",
          "text": [
            "Mean: 6.0\n"
          ]
        }
      ]
    },
    {
      "cell_type": "code",
      "source": [
        "#Median\n",
        "import numpy as np\n",
        "data = np.array([2, 4, 6, 8, 10])\n",
        "median = np.median(data)\n",
        "print(\"Median:\", median)"
      ],
      "metadata": {
        "colab": {
          "base_uri": "https://localhost:8080/"
        },
        "id": "s-RKAn3hP9oM",
        "outputId": "1dcfba4e-2513-437d-d785-9fb5f697a40d"
      },
      "execution_count": null,
      "outputs": [
        {
          "output_type": "stream",
          "name": "stdout",
          "text": [
            "Median: 6.0\n"
          ]
        }
      ]
    },
    {
      "cell_type": "code",
      "source": [
        "#Mode\n",
        "import scipy.stats as stats\n",
        "data = [2, 4, 6, 8, 10, 10]\n",
        "mode = stats.mode(data)\n",
        "print(\"Mode:\", mode)"
      ],
      "metadata": {
        "colab": {
          "base_uri": "https://localhost:8080/"
        },
        "id": "TkgCiTRqP_bq",
        "outputId": "23d5d670-0fe3-4b30-8340-2956a08af33d"
      },
      "execution_count": null,
      "outputs": [
        {
          "output_type": "stream",
          "name": "stdout",
          "text": [
            "Mode: ModeResult(mode=array([10]), count=array([2]))\n"
          ]
        },
        {
          "output_type": "stream",
          "name": "stderr",
          "text": [
            "<ipython-input-9-a11b655e42a6>:4: FutureWarning: Unlike other reduction functions (e.g. `skew`, `kurtosis`), the default behavior of `mode` typically preserves the axis it acts along. In SciPy 1.11.0, this behavior will change: the default value of `keepdims` will become False, the `axis` over which the statistic is taken will be eliminated, and the value None will no longer be accepted. Set `keepdims` to True or False to avoid this warning.\n",
            "  mode = stats.mode(data)\n"
          ]
        }
      ]
    },
    {
      "cell_type": "code",
      "source": [
        "#Range\n",
        "import numpy as np\n",
        "data = np.array([2, 4, 6, 8, 10])\n",
        "range = np.max(data) - np.min(data)\n",
        "print(\"Range:\", range)"
      ],
      "metadata": {
        "colab": {
          "base_uri": "https://localhost:8080/"
        },
        "id": "yCPgeGBpQBJV",
        "outputId": "155fb5be-6394-4ee3-cec4-705311878230"
      },
      "execution_count": null,
      "outputs": [
        {
          "output_type": "stream",
          "name": "stdout",
          "text": [
            "Range: 8\n"
          ]
        }
      ]
    },
    {
      "cell_type": "code",
      "source": [
        "#Variance\n",
        "import numpy as np\n",
        "data = np.array([2, 4, 6, 8, 10])\n",
        "variance = np.var(data, ddof=1)\n",
        "print(\"Variance:\", variance)"
      ],
      "metadata": {
        "colab": {
          "base_uri": "https://localhost:8080/"
        },
        "id": "U84xI1mrQCyN",
        "outputId": "050fce71-4574-4887-bd0a-c87c7ec03272"
      },
      "execution_count": null,
      "outputs": [
        {
          "output_type": "stream",
          "name": "stdout",
          "text": [
            "Variance: 10.0\n"
          ]
        }
      ]
    },
    {
      "cell_type": "code",
      "source": [
        "#Std\n",
        "import numpy as np\n",
        "data = np.array([2, 4, 6, 8, 10])\n",
        "std_dev = np.std(data, ddof=1)\n",
        "print(\"Standard Deviation:\", std_dev)"
      ],
      "metadata": {
        "colab": {
          "base_uri": "https://localhost:8080/"
        },
        "id": "rSKxKpKYQE2l",
        "outputId": "ea298fd7-e4ee-46c4-e1f8-04fd3a518314"
      },
      "execution_count": null,
      "outputs": [
        {
          "output_type": "stream",
          "name": "stdout",
          "text": [
            "Standard Deviation: 3.1622776601683795\n"
          ]
        }
      ]
    },
    {
      "cell_type": "markdown",
      "source": [
        "## Inferential Statistics"
      ],
      "metadata": {
        "id": "PlycFmx0UdYR"
      }
    },
    {
      "cell_type": "markdown",
      "source": [
        "### Hypothesis Testing"
      ],
      "metadata": {
        "id": "WO0f7qDcUeW8"
      }
    },
    {
      "cell_type": "code",
      "source": [
        "import numpy as np\n",
        "from scipy.stats import ttest_ind\n",
        "\n",
        "# Generate some sample data\n",
        "group1 = np.random.normal(10, 2, size=50)\n",
        "group2 = np.random.normal(12, 2, size=50)\n",
        "\n",
        "# Perform a two-sample t-test\n",
        "t, p = ttest_ind(group1, group2)\n",
        "\n",
        "print(\"t-statistic:\", t)\n",
        "print(\"p-value:\", p)"
      ],
      "metadata": {
        "colab": {
          "base_uri": "https://localhost:8080/"
        },
        "id": "5cACcRnlQGge",
        "outputId": "59f0e676-f2f1-41e3-8f75-bc633de423f4"
      },
      "execution_count": null,
      "outputs": [
        {
          "output_type": "stream",
          "name": "stdout",
          "text": [
            "t-statistic: -4.822809251458353\n",
            "p-value: 5.188860276395987e-06\n"
          ]
        }
      ]
    },
    {
      "cell_type": "markdown",
      "source": [
        "### Confidence Intervals"
      ],
      "metadata": {
        "id": "zZRGGffeUkmM"
      }
    },
    {
      "cell_type": "code",
      "source": [
        "import numpy as np\n",
        "from scipy.stats import t\n",
        "\n",
        "# Generate some sample data\n",
        "data = np.random.normal(0, 1, size=100)\n",
        "\n",
        "# Calculate the sample mean and standard deviation\n",
        "xbar = np.mean(data)\n",
        "s = np.std(data, ddof=1)\n",
        "\n",
        "# Calculate the t-value for a 95% confidence level with n-1 degrees of freedom\n",
        "tval = t.ppf(0.975, len(data)-1)\n",
        "\n",
        "# Calculate the confidence interval\n",
        "ci = (xbar - tval*s/np.sqrt(len(data)), xbar + tval*s/np.sqrt(len(data)))\n",
        "\n",
        "print(ci)"
      ],
      "metadata": {
        "colab": {
          "base_uri": "https://localhost:8080/"
        },
        "id": "mYhwlxR9Uhud",
        "outputId": "7fe8ef08-3649-4c11-ef03-cecb8eeb3974"
      },
      "execution_count": null,
      "outputs": [
        {
          "output_type": "stream",
          "name": "stdout",
          "text": [
            "(-0.1594362734433123, 0.24420582753756548)\n"
          ]
        }
      ]
    },
    {
      "cell_type": "markdown",
      "source": [
        "### Power Analysis"
      ],
      "metadata": {
        "id": "zxtLFqQsUoh0"
      }
    },
    {
      "cell_type": "code",
      "source": [
        "import statsmodels.stats.power as smp\n",
        "\n",
        "# Set parameters for power analysis\n",
        "effect_size = 0.5\n",
        "alpha = 0.05\n",
        "power = 0.8\n",
        "\n",
        "# Conduct power analysis\n",
        "nobs = smp.tt_ind_solve_power(effect_size=effect_size, alpha=alpha, power=power)\n",
        "\n",
        "print(\"Sample size: \", round(nobs))"
      ],
      "metadata": {
        "colab": {
          "base_uri": "https://localhost:8080/"
        },
        "id": "mIlXZD_gUjMH",
        "outputId": "83d2a30e-8660-4e3f-bd76-147cbd675ba1"
      },
      "execution_count": null,
      "outputs": [
        {
          "output_type": "stream",
          "name": "stdout",
          "text": [
            "Sample size:  64\n"
          ]
        },
        {
          "output_type": "stream",
          "name": "stderr",
          "text": [
            "/usr/local/lib/python3.8/dist-packages/scipy/stats/_continuous_distns.py:6832: RuntimeWarning: invalid value encountered in _nct_sf\n",
            "  return np.clip(_boost._nct_sf(x, df, nc), 0, 1)\n",
            "/usr/local/lib/python3.8/dist-packages/scipy/stats/_continuous_distns.py:6826: RuntimeWarning: invalid value encountered in _nct_cdf\n",
            "  return np.clip(_boost._nct_cdf(x, df, nc), 0, 1)\n"
          ]
        }
      ]
    },
    {
      "cell_type": "markdown",
      "source": [
        "## Generalized Linear Models"
      ],
      "metadata": {
        "id": "_2N0cIfJy_n4"
      }
    },
    {
      "cell_type": "code",
      "source": [
        "import statsmodels.api as sm\n",
        "\n",
        "# Load data\n",
        "data = sm.datasets.get_rdataset(\"titanic\", \"vcd\").data\n",
        "\n",
        "# Fit logistic regression model\n",
        "model = sm.formula.glm(\"survived ~ age + sex\", data=data, family=sm.families.Binomial()).fit()\n",
        "\n",
        "# Print model summary\n",
        "print(model.summary())"
      ],
      "metadata": {
        "id": "2tHi_lE3UqkK"
      },
      "execution_count": null,
      "outputs": []
    },
    {
      "cell_type": "code",
      "source": [
        "# Poisson\n",
        "import statsmodels.api as sm\n",
        "import pandas as pd\n",
        "\n",
        "# Load data\n",
        "data = pd.read_csv(\"data.csv\")\n",
        "\n",
        "# Fit Poisson regression model\n",
        "model = sm.GLM(data[\"y\"], data[[\"x1\", \"x2\", \"x3\"]], family=sm.families.Poisson()).fit()\n",
        "\n",
        "# Print model summary\n",
        "print(model.summary())"
      ],
      "metadata": {
        "id": "v_scYqjEzChM"
      },
      "execution_count": null,
      "outputs": []
    },
    {
      "cell_type": "code",
      "source": [
        "!pip install statsmodels"
      ],
      "metadata": {
        "colab": {
          "base_uri": "https://localhost:8080/"
        },
        "id": "rc2WDnYB5vd1",
        "outputId": "31c39645-8d5b-4d52-dad6-411a7439b7fd"
      },
      "execution_count": null,
      "outputs": [
        {
          "output_type": "stream",
          "name": "stdout",
          "text": [
            "Looking in indexes: https://pypi.org/simple, https://us-python.pkg.dev/colab-wheels/public/simple/\n",
            "Requirement already satisfied: statsmodels in /usr/local/lib/python3.8/dist-packages (0.13.5)\n",
            "Requirement already satisfied: numpy>=1.17 in /usr/local/lib/python3.8/dist-packages (from statsmodels) (1.22.1)\n",
            "Requirement already satisfied: packaging>=21.3 in /usr/local/lib/python3.8/dist-packages (from statsmodels) (23.0)\n",
            "Requirement already satisfied: patsy>=0.5.2 in /usr/local/lib/python3.8/dist-packages (from statsmodels) (0.5.3)\n",
            "Requirement already satisfied: pandas>=0.25 in /usr/local/lib/python3.8/dist-packages (from statsmodels) (1.3.5)\n",
            "Requirement already satisfied: scipy>=1.3 in /usr/local/lib/python3.8/dist-packages (from statsmodels) (1.7.3)\n",
            "Requirement already satisfied: python-dateutil>=2.7.3 in /usr/local/lib/python3.8/dist-packages (from pandas>=0.25->statsmodels) (2.8.2)\n",
            "Requirement already satisfied: pytz>=2017.3 in /usr/local/lib/python3.8/dist-packages (from pandas>=0.25->statsmodels) (2022.7.1)\n",
            "Requirement already satisfied: six in /usr/local/lib/python3.8/dist-packages (from patsy>=0.5.2->statsmodels) (1.15.0)\n"
          ]
        }
      ]
    },
    {
      "cell_type": "code",
      "source": [
        "import pandas as pd\n",
        "import statsmodels.genmod.bayes_mixed_glm as smf\n",
        "\n",
        "# Load the iris dataset\n",
        "iris = pd.read_csv('https://archive.ics.uci.edu/ml/machine-learning-databases/iris/iris.data',\n",
        "                   names=['sepal_length', 'sepal_width', 'petal_length', 'petal_width', 'species'])\n",
        "\n",
        "# Fit a Bayesian linear regression model\n",
        "random = {\"a\": \"1 + petal_width\", \"b\": \"1 + petal_width*sepal_length\"}\n",
        "\n",
        "\n",
        "model = smf.BinomialBayesMixedGLM.from_formula('sepal_length ~ petal_length + C(species)', random, iris)\n",
        "\n",
        "# Print the summary of the model\n",
        "print(model.summary())\n"
      ],
      "metadata": {
        "colab": {
          "base_uri": "https://localhost:8080/",
          "height": 416
        },
        "id": "MdFS5e4338qx",
        "outputId": "330a8384-b6ea-47a1-cd83-ce5ecb6df226"
      },
      "execution_count": 22,
      "outputs": [
        {
          "output_type": "error",
          "ename": "ValueError",
          "evalue": "ignored",
          "traceback": [
            "\u001b[0;31m---------------------------------------------------------------------------\u001b[0m",
            "\u001b[0;31mValueError\u001b[0m                                Traceback (most recent call last)",
            "\u001b[0;32m<ipython-input-22-e63fbe7cb58c>\u001b[0m in \u001b[0;36m<module>\u001b[0;34m\u001b[0m\n\u001b[1;32m     10\u001b[0m \u001b[0;34m\u001b[0m\u001b[0m\n\u001b[1;32m     11\u001b[0m \u001b[0;34m\u001b[0m\u001b[0m\n\u001b[0;32m---> 12\u001b[0;31m \u001b[0mmodel\u001b[0m \u001b[0;34m=\u001b[0m \u001b[0msmf\u001b[0m\u001b[0;34m.\u001b[0m\u001b[0mBinomialBayesMixedGLM\u001b[0m\u001b[0;34m.\u001b[0m\u001b[0mfrom_formula\u001b[0m\u001b[0;34m(\u001b[0m\u001b[0;34m'sepal_length ~ petal_length + C(species)'\u001b[0m\u001b[0;34m,\u001b[0m \u001b[0mrandom\u001b[0m\u001b[0;34m,\u001b[0m \u001b[0miris\u001b[0m\u001b[0;34m)\u001b[0m\u001b[0;34m\u001b[0m\u001b[0;34m\u001b[0m\u001b[0m\n\u001b[0m\u001b[1;32m     13\u001b[0m \u001b[0;34m\u001b[0m\u001b[0m\n\u001b[1;32m     14\u001b[0m \u001b[0;31m# Print the summary of the model\u001b[0m\u001b[0;34m\u001b[0m\u001b[0;34m\u001b[0m\u001b[0;34m\u001b[0m\u001b[0m\n",
            "\u001b[0;32m/usr/local/lib/python3.8/dist-packages/statsmodels/genmod/bayes_mixed_glm.py\u001b[0m in \u001b[0;36mfrom_formula\u001b[0;34m(cls, formula, vc_formulas, data, vcp_p, fe_p)\u001b[0m\n\u001b[1;32m   1043\u001b[0m \u001b[0;34m\u001b[0m\u001b[0m\n\u001b[1;32m   1044\u001b[0m         \u001b[0;31m# Copy over to the intended class structure\u001b[0m\u001b[0;34m\u001b[0m\u001b[0;34m\u001b[0m\u001b[0;34m\u001b[0m\u001b[0m\n\u001b[0;32m-> 1045\u001b[0;31m         mod = BinomialBayesMixedGLM(\n\u001b[0m\u001b[1;32m   1046\u001b[0m             \u001b[0mx\u001b[0m\u001b[0;34m.\u001b[0m\u001b[0mendog\u001b[0m\u001b[0;34m,\u001b[0m\u001b[0;34m\u001b[0m\u001b[0;34m\u001b[0m\u001b[0m\n\u001b[1;32m   1047\u001b[0m             \u001b[0mx\u001b[0m\u001b[0;34m.\u001b[0m\u001b[0mexog\u001b[0m\u001b[0;34m,\u001b[0m\u001b[0;34m\u001b[0m\u001b[0;34m\u001b[0m\u001b[0m\n",
            "\u001b[0;32m/usr/local/lib/python3.8/dist-packages/statsmodels/genmod/bayes_mixed_glm.py\u001b[0m in \u001b[0;36m__init__\u001b[0;34m(self, endog, exog, exog_vc, ident, vcp_p, fe_p, fep_names, vcp_names, vc_names)\u001b[0m\n\u001b[1;32m   1033\u001b[0m         \u001b[0;32mif\u001b[0m \u001b[0;32mnot\u001b[0m \u001b[0mnp\u001b[0m\u001b[0;34m.\u001b[0m\u001b[0mall\u001b[0m\u001b[0;34m(\u001b[0m\u001b[0mnp\u001b[0m\u001b[0;34m.\u001b[0m\u001b[0munique\u001b[0m\u001b[0;34m(\u001b[0m\u001b[0mendog\u001b[0m\u001b[0;34m)\u001b[0m \u001b[0;34m==\u001b[0m \u001b[0mnp\u001b[0m\u001b[0;34m.\u001b[0m\u001b[0mr_\u001b[0m\u001b[0;34m[\u001b[0m\u001b[0;36m0\u001b[0m\u001b[0;34m,\u001b[0m \u001b[0;36m1\u001b[0m\u001b[0;34m]\u001b[0m\u001b[0;34m)\u001b[0m\u001b[0;34m:\u001b[0m\u001b[0;34m\u001b[0m\u001b[0;34m\u001b[0m\u001b[0m\n\u001b[1;32m   1034\u001b[0m             \u001b[0mmsg\u001b[0m \u001b[0;34m=\u001b[0m \u001b[0;34m\"endog values must be 0 and 1, and not all identical\"\u001b[0m\u001b[0;34m\u001b[0m\u001b[0;34m\u001b[0m\u001b[0m\n\u001b[0;32m-> 1035\u001b[0;31m             \u001b[0;32mraise\u001b[0m \u001b[0mValueError\u001b[0m\u001b[0;34m(\u001b[0m\u001b[0mmsg\u001b[0m\u001b[0;34m)\u001b[0m\u001b[0;34m\u001b[0m\u001b[0;34m\u001b[0m\u001b[0m\n\u001b[0m\u001b[1;32m   1036\u001b[0m \u001b[0;34m\u001b[0m\u001b[0m\n\u001b[1;32m   1037\u001b[0m     \u001b[0;34m@\u001b[0m\u001b[0mclassmethod\u001b[0m\u001b[0;34m\u001b[0m\u001b[0;34m\u001b[0m\u001b[0m\n",
            "\u001b[0;31mValueError\u001b[0m: endog values must be 0 and 1, and not all identical"
          ]
        }
      ]
    },
    {
      "cell_type": "code",
      "source": [
        "import pandas as pd\n",
        "import statsmodels.api as sm\n",
        "\n",
        "# Load the iris dataset\n",
        "iris = pd.read_csv('https://archive.ics.uci.edu/ml/machine-learning-databases/iris/iris.data',\n",
        "                   names=['sepal_length', 'sepal_width', 'petal_length', 'petal_width', 'species'])\n",
        "\n",
        "# Fit a mixed-effects linear regression model\n",
        "random = {'sepal_width': '1 + petal_width', 'petal_length': '1 + petal_width*sepal_length'}\n",
        "model = sm.MixedLM.from_formula('sepal_length ~ petal_length + C(species)', data=iris, re_formula='1', vc_formula=random,groups='species')\n",
        "\n",
        "# Print the summary of the model\n",
        "result = model.fit()\n",
        "result.summary()"
      ],
      "metadata": {
        "id": "0PiC20c73_m8",
        "colab": {
          "base_uri": "https://localhost:8080/",
          "height": 439
        },
        "outputId": "80e8233c-cf7f-412e-c750-e595334d1d2e"
      },
      "execution_count": 31,
      "outputs": [
        {
          "output_type": "stream",
          "name": "stderr",
          "text": [
            "/usr/local/lib/python3.8/dist-packages/statsmodels/regression/mixed_linear_model.py:2237: ConvergenceWarning: The MLE may be on the boundary of the parameter space.\n",
            "  warnings.warn(msg, ConvergenceWarning)\n",
            "/usr/local/lib/python3.8/dist-packages/statsmodels/regression/mixed_linear_model.py:2261: ConvergenceWarning: The Hessian matrix at the estimated parameter values is not positive definite.\n",
            "  warnings.warn(msg, ConvergenceWarning)\n",
            "/usr/local/lib/python3.8/dist-packages/statsmodels/regression/mixed_linear_model.py:2705: RuntimeWarning: invalid value encountered in sqrt\n",
            "  sdf[0:self.k_fe, 1] = np.sqrt(np.diag(self.cov_params()[0:self.k_fe]))\n"
          ]
        },
        {
          "output_type": "execute_result",
          "data": {
            "text/plain": [
              "<class 'statsmodels.iolib.summary2.Summary'>\n",
              "\"\"\"\n",
              "                 Mixed Linear Model Regression Results\n",
              "=======================================================================\n",
              "Model:                 MixedLM     Dependent Variable:     sepal_length\n",
              "No. Observations:      150         Method:                 REML        \n",
              "No. Groups:            3           Scale:                  0.0000      \n",
              "Min. group size:       50          Log-Likelihood:         1675.3089   \n",
              "Max. group size:       50          Converged:              Yes         \n",
              "Mean group size:       50.0                                            \n",
              "-----------------------------------------------------------------------\n",
              "                              Coef.  Std.Err.   z   P>|z| [0.025 0.975]\n",
              "-----------------------------------------------------------------------\n",
              "Intercept                      0.003                                   \n",
              "C(species)[T.Iris-versicolor] -0.028                                   \n",
              "C(species)[T.Iris-virginica]   0.009                                   \n",
              "petal_length                   0.000    0.000 0.000 1.000 -0.000  0.000\n",
              "species Var                    0.000                                   \n",
              "petal_length Var               0.022  786.985                          \n",
              "sepal_width Var                0.000                                   \n",
              "=======================================================================\n",
              "\n",
              "\"\"\""
            ],
            "text/html": [
              "<table class=\"simpletable\">\n",
              "<tr>\n",
              "       <td>Model:</td>       <td>MixedLM</td> <td>Dependent Variable:</td> <td>sepal_length</td>\n",
              "</tr>\n",
              "<tr>\n",
              "  <td>No. Observations:</td>   <td>150</td>         <td>Method:</td>           <td>REML</td>    \n",
              "</tr>\n",
              "<tr>\n",
              "     <td>No. Groups:</td>       <td>3</td>          <td>Scale:</td>           <td>0.0000</td>   \n",
              "</tr>\n",
              "<tr>\n",
              "  <td>Min. group size:</td>    <td>50</td>      <td>Log-Likelihood:</td>     <td>1675.3089</td> \n",
              "</tr>\n",
              "<tr>\n",
              "  <td>Max. group size:</td>    <td>50</td>        <td>Converged:</td>           <td>Yes</td>    \n",
              "</tr>\n",
              "<tr>\n",
              "  <td>Mean group size:</td>   <td>50.0</td>            <td></td>                 <td></td>      \n",
              "</tr>\n",
              "</table>\n",
              "<table class=\"simpletable\">\n",
              "<tr>\n",
              "                <td></td>                 <th>Coef.</th> <th>Std.Err.</th>   <th>z</th>   <th>P>|z|</th> <th>[0.025</th> <th>0.975]</th>\n",
              "</tr>\n",
              "<tr>\n",
              "  <th>Intercept</th>                      <td>0.003</td>     <td></td>       <td></td>      <td></td>       <td></td>       <td></td>   \n",
              "</tr>\n",
              "<tr>\n",
              "  <th>C(species)[T.Iris-versicolor]</th> <td>-0.028</td>     <td></td>       <td></td>      <td></td>       <td></td>       <td></td>   \n",
              "</tr>\n",
              "<tr>\n",
              "  <th>C(species)[T.Iris-virginica]</th>   <td>0.009</td>     <td></td>       <td></td>      <td></td>       <td></td>       <td></td>   \n",
              "</tr>\n",
              "<tr>\n",
              "  <th>petal_length</th>                   <td>0.000</td>   <td>0.000</td>  <td>0.000</td> <td>1.000</td> <td>-0.000</td>  <td>0.000</td>\n",
              "</tr>\n",
              "<tr>\n",
              "  <th>species Var</th>                    <td>0.000</td>     <td></td>       <td></td>      <td></td>       <td></td>       <td></td>   \n",
              "</tr>\n",
              "<tr>\n",
              "  <th>petal_length Var</th>               <td>0.022</td>  <td>786.985</td>   <td></td>      <td></td>       <td></td>       <td></td>   \n",
              "</tr>\n",
              "<tr>\n",
              "  <th>sepal_width Var</th>                <td>0.000</td>     <td></td>       <td></td>      <td></td>       <td></td>       <td></td>   \n",
              "</tr>\n",
              "</table>"
            ]
          },
          "metadata": {},
          "execution_count": 31
        }
      ]
    },
    {
      "cell_type": "markdown",
      "source": [
        "## Markov Chain Monte Carlo (MCMC)"
      ],
      "metadata": {
        "id": "espnB8QTkbXF"
      }
    },
    {
      "cell_type": "code",
      "source": [
        "import numpy as np\n",
        "import matplotlib.pyplot as plt\n",
        "\n",
        "# Define the target distribution\n",
        "def target(x):\n",
        "    return np.exp(-0.5*(x-2)**2) + np.exp(-0.5*(x+2)**2)\n",
        "\n",
        "# Define the proposal distribution\n",
        "def proposal(x, sigma=1):\n",
        "    return np.random.normal(x, sigma)\n",
        "\n",
        "# Initialize the Markov chain\n",
        "x = 0\n",
        "samples = []\n",
        "\n",
        "# Run the algorithm\n",
        "for i in range(10000):\n",
        "    # Propose a new state\n",
        "    y = proposal(x)\n",
        "\n",
        "    # Compute the acceptance probability\n",
        "    alpha = min(1, target(y)/target(x))\n",
        "\n",
        "    # Accept or reject the proposed state\n",
        "    if np.random.rand() < alpha:\n",
        "        x = y\n",
        "\n",
        "    # Add the sample to the list of samples\n",
        "    samples.append(x)\n",
        "\n",
        "# Plot the samples\n",
        "plt.hist(samples, bins=50, density=True, label='Estimated distribution')\n",
        "plt.legend()\n",
        "plt.show()"
      ],
      "metadata": {
        "colab": {
          "base_uri": "https://localhost:8080/",
          "height": 265
        },
        "id": "fRxnzQY6dWtz",
        "outputId": "e14551cc-3fde-46be-af10-21fe444ec76a"
      },
      "execution_count": 32,
      "outputs": [
        {
          "output_type": "display_data",
          "data": {
            "text/plain": [
              "<Figure size 432x288 with 1 Axes>"
            ],
            "image/png": "[encoded data removed]"
          },
          "metadata": {
            "needs_background": "light"
          }
        }
      ]
    },
    {
      "cell_type": "code",
      "source": [
        "from scipy.stats import gaussian_kde\n",
        "\n",
        "# Estimate the posterior distribution using kernel density estimation\n",
        "kde = gaussian_kde(samples)\n",
        "\n",
        "# Define the range of the x-axis for the plot\n",
        "x_min = min(samples)\n",
        "x_max = max(samples)\n",
        "x_range = np.linspace(x_min, x_max, 1000)\n",
        "\n",
        "# Plot the posterior distribution\n",
        "plt.plot(x_range, kde(x_range), label='Posterior distribution')\n",
        "plt.legend()\n",
        "plt.show()"
      ],
      "metadata": {
        "colab": {
          "base_uri": "https://localhost:8080/",
          "height": 265
        },
        "id": "t3QpB3jHkZtR",
        "outputId": "6bc3d6c0-545f-4741-ee55-f71c7a1983f9"
      },
      "execution_count": 33,
      "outputs": [
        {
          "output_type": "display_data",
          "data": {
            "text/plain": [
              "<Figure size 432x288 with 1 Axes>"
            ],
            "image/png": "[encoded data removed]"
          },
          "metadata": {
            "needs_background": "light"
          }
        }
      ]
    },
    {
      "cell_type": "code",
      "source": [
        "# Compute the 95% credible interval\n",
        "lower_bound = np.percentile(samples, 2.5)\n",
        "upper_bound = np.percentile(samples, 97.5)\n",
        "print(f\"95% credible interval: [{lower_bound}, {upper_bound}]\")\n"
      ],
      "metadata": {
        "colab": {
          "base_uri": "https://localhost:8080/"
        },
        "id": "FzuC4QzvkgdF",
        "outputId": "582027c1-24ab-43e4-90ad-a11a138a8d48"
      },
      "execution_count": 34,
      "outputs": [
        {
          "output_type": "stream",
          "name": "stdout",
          "text": [
            "95% credible interval: [-3.5701802296026166, 3.762132517614992]\n"
          ]
        }
      ]
    },
    {
      "cell_type": "code",
      "source": [],
      "metadata": {
        "id": "af1hm4BfkjI6"
      },
      "execution_count": null,
      "outputs": []
    }
  ]
}