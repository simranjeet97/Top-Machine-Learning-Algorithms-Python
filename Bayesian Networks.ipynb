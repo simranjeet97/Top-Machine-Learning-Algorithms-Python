{
 "cells": [
  {
   "cell_type": "code",
   "execution_count": 46,
   "metadata": {},
   "outputs": [
    {
     "name": "stdout",
     "output_type": "stream",
     "text": [
      "+----------------+-----------------+\n",
      "| Purchase       |   phi(Purchase) |\n",
      "+================+=================+\n",
      "| Purchase(500)  |          0.0214 |\n",
      "+----------------+-----------------+\n",
      "| Purchase(800)  |          0.0214 |\n",
      "+----------------+-----------------+\n",
      "| Purchase(900)  |          0.0214 |\n",
      "+----------------+-----------------+\n",
      "| Purchase(1000) |          0.0214 |\n",
      "+----------------+-----------------+\n",
      "| Purchase(1200) |          0.8291 |\n",
      "+----------------+-----------------+\n",
      "| Purchase(1300) |          0.0214 |\n",
      "+----------------+-----------------+\n",
      "| Purchase(1500) |          0.0214 |\n",
      "+----------------+-----------------+\n",
      "| Purchase(3940) |          0.0214 |\n",
      "+----------------+-----------------+\n",
      "| Purchase(4440) |          0.0214 |\n",
      "+----------------+-----------------+\n"
     ]
    }
   ],
   "source": [
    "import numpy as np\n",
    "import pandas as pd\n",
    "from pgmpy.models import BayesianModel\n",
    "from pgmpy.estimators import MaximumLikelihoodEstimator, BayesianEstimator\n",
    "from pgmpy.inference import VariableElimination\n",
    "from pgmpy.factors.discrete import TabularCPD\n",
    "\n",
    "import warnings\n",
    "warnings.filterwarnings(\"ignore\")\n",
    "\n",
    "# Import data and preprocess\n",
    "data = pd.read_csv('customer_data.csv')\n",
    "data = data.dropna()\n",
    "data = data.drop_duplicates()\n",
    "\n",
    "# Define the model structure\n",
    "model = BayesianModel([('Age', 'Purchase'), ('Gender', 'Purchase'), ('History', 'Purchase')])\n",
    "\n",
    "# Define the CPDs\n",
    "cpd_age = MaximumLikelihoodEstimator(model, data).estimate_cpd('Age')\n",
    "cpd_gender = MaximumLikelihoodEstimator(model, data).estimate_cpd('Gender')\n",
    "cpd_history = MaximumLikelihoodEstimator(model, data).estimate_cpd('History')\n",
    "cpd_purchase = BayesianEstimator(model, data).estimate_cpd('Purchase', prior_type='BDeu', equivalent_sample_size=10)\n",
    "\n",
    "# Add the CPDs to the model\n",
    "model.add_cpds(cpd_age, cpd_gender, cpd_history, cpd_purchase)\n",
    "\n",
    "# Check if the model is correct\n",
    "model.check_model()\n",
    "\n",
    "# Instantiate the variable elimination method for inference\n",
    "model_checker = VariableElimination(model)\n",
    "\n",
    "# Perform inference\n",
    "result = model_checker.query(variables=['Purchase'], evidence={'Age': 32, 'Gender': 'Male', 'History': 'High'})\n",
    "print(result)\n"
   ]
  },
  {
   "cell_type": "code",
   "execution_count": null,
   "metadata": {},
   "outputs": [],
   "source": []
  }
 ],
 "metadata": {
  "kernelspec": {
   "display_name": "Python 3.10.5 64-bit",
   "language": "python",
   "name": "python3"
  },
  "language_info": {
   "codemirror_mode": {
    "name": "ipython",
    "version": 3
   },
   "file_extension": ".py",
   "mimetype": "text/x-python",
   "name": "python",
   "nbconvert_exporter": "python",
   "pygments_lexer": "ipython3",
   "version": "3.10.5"
  },
  "orig_nbformat": 4,
  "vscode": {
   "interpreter": {
    "hash": "aee8b7b246df8f9039afb4144a1f6fd8d2ca17a180786b69acc140d282b71a49"
   }
  }
 },
 "nbformat": 4,
 "nbformat_minor": 2
}
